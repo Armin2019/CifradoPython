{
 "cells": [
  {
   "cell_type": "code",
   "execution_count": 15,
   "metadata": {},
   "outputs": [
    {
     "name": "stdout",
     "output_type": "stream",
     "text": [
      "Estás en una tierra llena de dragones. Frente a tí\n",
      "hay dos cuevas. En una de ellas, el dragón es generoso y\n",
      "amigable y compartirá su tesoro contigo. El otro dragón\n",
      "es codicioso y está hambriento, y te devorará inmediatamente.\n",
      "\n",
      "¿A qué cueva quieres entrar? (1 ó 2)\n"
     ]
    },
    {
     "name": "stdin",
     "output_type": "stream",
     "text": [
      " 2\n"
     ]
    },
    {
     "name": "stdout",
     "output_type": "stream",
     "text": [
      "Te aproximas a la cueva...\n",
      "Es oscura y espeluznante...\n",
      "¡Un gran dragon aparece súbitamente frente a tí! Abre sus faucesy...\n",
      "\n",
      "¡Te regala su tesoro!\n",
      "¿Quieres jugar de nuevo? (sí o no)\n"
     ]
    },
    {
     "name": "stdin",
     "output_type": "stream",
     "text": [
      " s\n"
     ]
    },
    {
     "name": "stdout",
     "output_type": "stream",
     "text": [
      "Estás en una tierra llena de dragones. Frente a tí\n",
      "hay dos cuevas. En una de ellas, el dragón es generoso y\n",
      "amigable y compartirá su tesoro contigo. El otro dragón\n",
      "es codicioso y está hambriento, y te devorará inmediatamente.\n",
      "\n",
      "¿A qué cueva quieres entrar? (1 ó 2)\n"
     ]
    },
    {
     "name": "stdin",
     "output_type": "stream",
     "text": [
      " 1\n"
     ]
    },
    {
     "name": "stdout",
     "output_type": "stream",
     "text": [
      "Te aproximas a la cueva...\n",
      "Es oscura y espeluznante...\n",
      "¡Un gran dragon aparece súbitamente frente a tí! Abre sus faucesy...\n",
      "\n",
      "¡Te engulle de un bocado!\n",
      "¿Quieres jugar de nuevo? (sí o no)\n"
     ]
    },
    {
     "name": "stdin",
     "output_type": "stream",
     "text": [
      " n\n"
     ]
    }
   ],
   "source": [
    "import random\n",
    "import time\n",
    "\n",
    "def mostrarIntroducción():\n",
    " print('Estás en una tierra llena de dragones. Frente a tí')\n",
    " print('hay dos cuevas. En una de ellas, el dragón es generoso y')\n",
    " print('amigable y compartirá su tesoro contigo. El otro dragón')\n",
    " print('es codicioso y está hambriento, y te devorará inmediatamente.')\n",
    " print()\n",
    "\n",
    "def elegirCueva():\n",
    " cueva = ''\n",
    " while cueva != '1' and cueva != '2':\n",
    "  print('¿A qué cueva quieres entrar? (1 ó 2)')\n",
    "  cueva = input()\n",
    "  return cueva\n",
    "def explorarCueva(cuevaElegida):\n",
    "  print('Te aproximas a la cueva...')\n",
    "  time.sleep(2)\n",
    "  print('Es oscura y espeluznante...')\n",
    "  time.sleep(2)\n",
    "  print('¡Un gran dragon aparece súbitamente frente a tí! Abre sus fauses...')\n",
    "  print()\n",
    "  time.sleep(2)\n",
    "\n",
    "  cuevaAmigable = random.randint(1, 2)\n",
    "\n",
    "  if cuevaElegida == str(cuevaAmigable):\n",
    "   print('¡Te regala su tesoro!')\n",
    "  else:\n",
    "   print('¡Te engulle de un bocado!')\n",
    "\n",
    "jugarDeNuevo = 'sí'\n",
    "while jugarDeNuevo == 'sí' or jugarDeNuevo == 's':\n",
    "\n",
    "  mostrarIntroducción()\n",
    "\n",
    "  númeroDeCueva = elegirCueva()\n",
    "\n",
    "  explorarCueva(númeroDeCueva)\n",
    "\n",
    "  print('¿Quieres jugar de nuevo? (sí o no)')\n",
    "  jugarDeNuevo = input()\n"
   ]
  },
  {
   "cell_type": "code",
   "execution_count": null,
   "metadata": {},
   "outputs": [],
   "source": []
  },
  {
   "cell_type": "code",
   "execution_count": null,
   "metadata": {},
   "outputs": [],
   "source": []
  }
 ],
 "metadata": {
  "kernelspec": {
   "display_name": "Python 3",
   "language": "python",
   "name": "python3"
  },
  "language_info": {
   "codemirror_mode": {
    "name": "ipython",
    "version": 3
   },
   "file_extension": ".py",
   "mimetype": "text/x-python",
   "name": "python",
   "nbconvert_exporter": "python",
   "pygments_lexer": "ipython3",
   "version": "3.9.0"
  }
 },
 "nbformat": 4,
 "nbformat_minor": 4
}
