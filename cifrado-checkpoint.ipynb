{
 "cells": [
  {
   "cell_type": "code",
   "execution_count": 12,
   "metadata": {},
   "outputs": [
    {
     "name": "stdout",
     "output_type": "stream",
     "text": [
      "¿Deseas encriptar o desencriptar un mensaje?\n"
     ]
    },
    {
     "name": "stdin",
     "output_type": "stream",
     "text": [
      " e\n"
     ]
    },
    {
     "name": "stdout",
     "output_type": "stream",
     "text": [
      "Ingresa tu mensaje:\n"
     ]
    },
    {
     "name": "stdin",
     "output_type": "stream",
     "text": [
      " la vaca loca\n"
     ]
    },
    {
     "name": "stdout",
     "output_type": "stream",
     "text": [
      "Ingresa el número de clave (1-26)\n"
     ]
    },
    {
     "name": "stdin",
     "output_type": "stream",
     "text": [
      " 15\n"
     ]
    },
    {
     "name": "stdout",
     "output_type": "stream",
     "text": [
      "Tu texto traducido es:\n",
      "ap kprp adrp\n"
     ]
    }
   ],
   "source": [
    "TAM_MAX_CLAVE = 26\n",
    "\n",
    "def obtenerModo():\n",
    " while True:\n",
    "   print('¿Deseas encriptar o desencriptar un mensaje?')\n",
    "   modo = input().lower()\n",
    "   if modo in 'encriptar e desencriptar d'.split():\n",
    "    return modo\n",
    "   else:\n",
    "    print('Ingresa \"encriptar\" o \"e\" o \"desencriptar\" o \"d\"')\n",
    "\n",
    "def obtenerMensaje():\n",
    "  print('Ingresa tu mensaje:')\n",
    "  return input()\n",
    "\n",
    "def obtenerClave():\n",
    "  clave = 0\n",
    "  while True:\n",
    "    print('Ingresa el número de clave (1-%s)' % (TAM_MAX_CLAVE))\n",
    "    clave = int(input())\n",
    "    if (clave >= 1 and clave <= TAM_MAX_CLAVE):\n",
    "      return clave\n",
    "\n",
    "def obtenerMensajeTraducido(modo, mensaje, clave):\n",
    "    if modo[0] == 'd':\n",
    "     clave= -clave\n",
    "    traduccion = ''\n",
    "    for simbolo in mensaje:\n",
    "         if simbolo.isalpha():\n",
    "             num = ord(simbolo)\n",
    "             num += clave\n",
    "\n",
    "             if simbolo.isupper():\n",
    "                 if num > ord('Z'):\n",
    "                     num -= 26\n",
    "                 elif num < ord('A'):\n",
    "                     num += 26\n",
    "             elif simbolo.islower():\n",
    "                 if num > ord('z'):\n",
    "                        num -= 26\n",
    "                 elif num < ord('a'):\n",
    "                     num += 26\n",
    "\n",
    "             traduccion += chr(num)\n",
    "         else:\n",
    "             traduccion += simbolo\n",
    "    return traduccion\n",
    "\n",
    "modo = obtenerModo()\n",
    "mensaje = obtenerMensaje()\n",
    "clave = obtenerClave()\n",
    "\n",
    "print('Tu texto traducido es:')\n",
    "print(obtenerMensajeTraducido(modo, mensaje, clave))"
   ]
  },
  {
   "cell_type": "code",
   "execution_count": null,
   "metadata": {},
   "outputs": [],
   "source": []
  }
 ],
 "metadata": {
  "kernelspec": {
   "display_name": "Python 3",
   "language": "python",
   "name": "python3"
  },
  "language_info": {
   "codemirror_mode": {
    "name": "ipython",
    "version": 3
   },
   "file_extension": ".py",
   "mimetype": "text/x-python",
   "name": "python",
   "nbconvert_exporter": "python",
   "pygments_lexer": "ipython3",
   "version": "3.9.0"
  }
 },
 "nbformat": 4,
 "nbformat_minor": 4
}
